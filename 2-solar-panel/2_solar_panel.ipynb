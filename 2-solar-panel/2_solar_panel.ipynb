{
 "cells": [
  {
   "cell_type": "markdown",
   "id": "fb8d63a2-913e-498a-a01a-5e66a39bf3e7",
   "metadata": {
    "pycharm": {
     "name": "#%% md\n"
    }
   },
   "source": [
    "# Lab 2. Solar Panel Instructions"
   ]
  },
  {
   "cell_type": "markdown",
   "id": "63678eaa-8830-4cbe-94af-5ebd8b0e03e0",
   "metadata": {
    "pycharm": {
     "name": "#%% md\n"
    }
   },
   "source": [
    "## Introduction\n",
    "\n",
    "In this notebook we show you how to create your second sub-agent on Amazon Bedrock Agents.\n",
    "\n",
    "This agent contains instructions on how to install and to do maintenance on Solar Panels, where customers can ask the agent to return these information from an [Amazon Bedrock Knowledge Base](https://aws.amazon.com/bedrock/knowledge-bases/).\n",
    "\n",
    "To equip foundation models (FMs) with up-to-date and proprietary information, organizations use Retrieval Augmented Generation (RAG), a technique that fetches data from company data sources and enriches the prompt to provide more relevant and accurate responses. \n",
    "\n",
    "Amazon Bedrock Knowledge Bases is Bedrock's fully managed capability that helps you implement the entire RAG workflow from ingestion to retrieval and prompt augmentation without having to build custom integrations to data sources and manage data flows.\n",
    "\n",
    "In the context of our agent, if the answer to a question is not present on the Knowledge Base, customers can ask agent to create a support ticket, to get a human in the loop to help with their questions.\n",
    "\n",
    "The following represents the piece of architecture that will be built on this module.\n",
    "\n",
    "![Architecture](img/solar_panel_agent.png)"
   ]
  },
  {
   "cell_type": "markdown",
   "id": "b3ba49fa-3293-4ea6-8dee-fb9f410c6481",
   "metadata": {
    "pycharm": {
     "name": "#%% md\n"
    }
   },
   "source": [
    "## Setup"
   ]
  },
  {
   "cell_type": "markdown",
   "id": "7b76edd4",
   "metadata": {
    "pycharm": {
     "name": "#%% md\n"
    }
   },
   "source": [
    "Make sure that your boto3 version is the latest\n",
    "\n",
    "If not, return no [notebook 1](../1-energy-forecast/1_forecasting_agent.ipynb) and run Setup block again."
   ]
  },
  {
   "cell_type": "code",
   "execution_count": 1,
   "id": "20b72889",
   "metadata": {
    "pycharm": {
     "name": "#%%\n"
    }
   },
   "outputs": [
    {
     "name": "stdout",
     "output_type": "stream",
     "text": [
      "boto3==1.37.6\n"
     ]
    }
   ],
   "source": [
    "!pip freeze | grep boto3"
   ]
  },
  {
   "cell_type": "markdown",
   "id": "ccf37dd5-bfaf-4563-a6ad-f9d7637c6e43",
   "metadata": {
    "pycharm": {
     "name": "#%% md\n"
    }
   },
   "source": [
    "## Creating Agent\n",
    "\n",
    "On this section we declare global variables that will be act as helpers during entire notebook and we will start to create out second agent."
   ]
  },
  {
   "cell_type": "code",
   "execution_count": 2,
   "id": "277a742a-5f17-4dfc-ac36-1b70ce8f4f7d",
   "metadata": {
    "pycharm": {
     "name": "#%%\n"
    }
   },
   "outputs": [],
   "source": [
    "import boto3\n",
    "import os\n",
    "\n",
    "sts_client = boto3.client('sts')\n",
    "session = boto3.session.Session()\n",
    "\n",
    "account_id = sts_client.get_caller_identity()[\"Account\"]\n",
    "region = session.region_name\n",
    "account_id_suffix = account_id[:3]\n",
    "agent_suffix = f\"{region}-{account_id_suffix}\"\n",
    "s3_client = boto3.client('s3', region)\n",
    "bedrock_client = boto3.client('bedrock-runtime', region)\n",
    "\n",
    "agent_foundation_model = [\n",
    "    'anthropic.claude-3-haiku-20240307-v1:0',\n",
    "    'anthropic.claude-3-sonnet-20240229-v1:0',\n",
    "    'anthropic.claude-3-5-sonnet-20240620-v1:0'\n",
    "]"
   ]
  },
  {
   "cell_type": "code",
   "execution_count": 3,
   "id": "a27cc6c8-4faa-4adc-90c8-7ace112877e1",
   "metadata": {
    "pycharm": {
     "name": "#%%\n"
    }
   },
   "outputs": [],
   "source": [
    "solar_agent_name = f\"solar-p-{agent_suffix}\"\n",
    "\n",
    "solar_lambda_name = f\"fn-solar-p-{agent_suffix}\"\n",
    "\n",
    "solar_agent_role_name = f'AmazonBedrockExecutionRoleForAgents_{solar_agent_name}'\n",
    "\n",
    "dynamodb_table = f\"{solar_agent_name}-table\"\n",
    "dynamodb_pk = \"customer_id\"\n",
    "dynamodb_sk = \"ticket_id\"\n",
    "\n",
    "dynamoDB_args = [dynamodb_table, dynamodb_pk, dynamodb_sk]\n",
    "\n",
    "knowledge_base_name = f'{solar_agent_name}-kb'\n",
    "suffix = f\"{region}-{account_id}\"\n",
    "\n",
    "knowledge_base_description = \"KB containing solar panel instructions for installation and maintenance\"\n",
    "bucket_name = f'solar-p-kb-{suffix}'"
   ]
  },
  {
   "cell_type": "markdown",
   "id": "5b41a37c",
   "metadata": {
    "pycharm": {
     "name": "#%% md\n"
    }
   },
   "source": [
    "### Importing helper functions\n",
    "\n",
    "On following section, we're adding `bedrock_agent_helper.py` and `knowledge_base_helper` on Python path, so the files can be recognized and their functionalities can be invoked.\n",
    "\n",
    "Now, you're going to import from helper classes `bedrock_agent_helper.py` and `knowledge_base_helper.py`.\n",
    " \n",
    "Those files contain helper classes totally focused on make labs experience smoothly. \n",
    "\n",
    "All interactions with Bedrock will be handled by these classes.\n",
    "\n",
    "Following are methods that you're going to invoke on this lab:\n",
    "\n",
    "On `agents.py`:\n",
    "- `create_agent`: Create a new agent and respective IAM roles\n",
    "- `add_action_group_with_lambda`: Create a lambda function and add it as an action group for a previous created agent\n",
    "- `create_agent_alias`: Create an alias for this agent\n",
    "- `invoke`: Execute agent\n",
    "\n",
    "On `knowledge_bases.py`:\n",
    "- `create_or_retrieve_knowledge_base`: Create Knowledge Base on Amazon Bedrock if it doesn't exist or get info about previous created.\n",
    "- `synchronize_data`: Read files on S3, convert text info into vectors and add that information on Vector Database."
   ]
  },
  {
   "cell_type": "code",
   "execution_count": 4,
   "id": "de912e83-e8c1-4bd7-adb7-9ad232e13b56",
   "metadata": {
    "pycharm": {
     "name": "#%%\n"
    }
   },
   "outputs": [],
   "source": [
    "import sys\n",
    "\n",
    "sys.path.insert(0, \".\")\n",
    "sys.path.insert(1, \"..\")\n",
    "\n",
    "from utils.bedrock_agent_helper import (\n",
    "    AgentsForAmazonBedrock\n",
    ")\n",
    "from utils.knowledge_base_helper import (\n",
    "    KnowledgeBasesForAmazonBedrock\n",
    ")\n",
    "agents = AgentsForAmazonBedrock()\n",
    "kb = KnowledgeBasesForAmazonBedrock()"
   ]
  },
  {
   "cell_type": "markdown",
   "id": "f455fe28",
   "metadata": {
    "pycharm": {
     "name": "#%% md\n"
    }
   },
   "source": [
    "## Create and Load Knowledge Base\n",
    "\n",
    "On this section, you're going to create a Amazon Bedrock Knowledge Base and ingest data on it.\n",
    "\n",
    "In the next steps we will generate the data used to populate the knowledge base. It will be composed of instructions on how to handle a solar panel\n",
    "\n",
    "**This creation process takes several minutes.**"
   ]
  },
  {
   "cell_type": "code",
   "execution_count": 5,
   "id": "040e3a76",
   "metadata": {
    "pycharm": {
     "name": "#%%\n"
    }
   },
   "outputs": [
    {
     "name": "stdout",
     "output_type": "stream",
     "text": [
      "Creating KB solar-p-us-west-2-790-kb\n",
      "========================================================================================\n",
      "Step 1 - Creating or retrieving solar-p-kb-us-west-2-790231119814 S3 bucket for Knowledge Base documents\n",
      "Bucket solar-p-kb-us-west-2-790231119814 already exists - retrieving it!\n",
      "========================================================================================\n",
      "Step 2 - Creating Knowledge Base Execution Role (AmazonBedrockExecutionRoleForKnowledgeBase_784) and Policies\n",
      "========================================================================================\n",
      "Step 3 - Creating OSS encryption, network and data access policies\n",
      "========================================================================================\n",
      "Step 4 - Creating OSS Collection (this step takes a couple of minutes to complete)\n",
      "{ 'ResponseMetadata': { 'HTTPHeaders': { 'connection': 'keep-alive',\n",
      "                                         'content-length': '320',\n",
      "                                         'content-type': 'application/x-amz-json-1.0',\n",
      "                                         'date': 'Wed, 05 Mar 2025 23:59:40 '\n",
      "                                                 'GMT',\n",
      "                                         'x-amzn-requestid': '11f816a6-a0c0-4de0-bef2-b346f6fe8da2'},\n",
      "                        'HTTPStatusCode': 200,\n",
      "                        'RequestId': '11f816a6-a0c0-4de0-bef2-b346f6fe8da2',\n",
      "                        'RetryAttempts': 0},\n",
      "  'createCollectionDetail': { 'arn': 'arn:aws:aoss:us-west-2:790231119814:collection/2cfygalhme8yl6frb90k',\n",
      "                              'createdDate': 1741219180430,\n",
      "                              'id': '2cfygalhme8yl6frb90k',\n",
      "                              'kmsKeyArn': 'auto',\n",
      "                              'lastModifiedDate': 1741219180430,\n",
      "                              'name': 'solar-p-us-west-2-790-kb-784',\n",
      "                              'standbyReplicas': 'ENABLED',\n",
      "                              'status': 'CREATING',\n",
      "                              'type': 'VECTORSEARCH'}}\n",
      "2cfygalhme8yl6frb90k.us-west-2.aoss.amazonaws.com\n",
      "Creating collection...\n",
      "..............................\n",
      "Collection successfully created:\n",
      "[ { 'arn': 'arn:aws:aoss:us-west-2:790231119814:collection/2cfygalhme8yl6frb90k',\n",
      "    'collectionEndpoint': 'https://2cfygalhme8yl6frb90k.us-west-2.aoss.amazonaws.com',\n",
      "    'createdDate': 1741219180430,\n",
      "    'dashboardEndpoint': 'https://2cfygalhme8yl6frb90k.us-west-2.aoss.amazonaws.com/_dashboards',\n",
      "    'id': '2cfygalhme8yl6frb90k',\n",
      "    'kmsKeyArn': 'auto',\n",
      "    'lastModifiedDate': 1741219203761,\n",
      "    'name': 'solar-p-us-west-2-790-kb-784',\n",
      "    'standbyReplicas': 'ENABLED',\n",
      "    'status': 'ACTIVE',\n",
      "    'type': 'VECTORSEARCH'}]\n",
      "Opensearch serverless arn:  arn:aws:iam::790231119814:policy/AmazonBedrockOSSPolicyForKnowledgeBase_784\n",
      "Sleeping for a minute to ensure data access rules have been enforced\n",
      "========================================================================================\n",
      "Step 5 - Creating OSS Vector Index\n",
      "\n",
      "Creating index:\n",
      "{ 'acknowledged': True,\n",
      "  'index': 'solar-p-us-west-2-790-kb-index-784',\n",
      "  'shards_acknowledged': True}\n",
      "========================================================================================\n",
      "Step 6 - Creating Knowledge Base\n",
      "{'type': 'VECTOR', 'vectorKnowledgeBaseConfiguration': {'embeddingModelArn': 'arn:aws:bedrock:us-west-2::foundation-model/amazon.titan-embed-text-v2:0'}}\n",
      "{ 'createdAt': datetime.datetime(2025, 3, 6, 0, 2, 11, 513215, tzinfo=tzlocal()),\n",
      "  'description': 'KB containing solar panel instructions for installation and '\n",
      "                 'maintenance',\n",
      "  'knowledgeBaseArn': 'arn:aws:bedrock:us-west-2:790231119814:knowledge-base/BCT5W5W7PJ',\n",
      "  'knowledgeBaseConfiguration': { 'type': 'VECTOR',\n",
      "                                  'vectorKnowledgeBaseConfiguration': { 'embeddingModelArn': 'arn:aws:bedrock:us-west-2::foundation-model/amazon.titan-embed-text-v2:0'}},\n",
      "  'knowledgeBaseId': 'BCT5W5W7PJ',\n",
      "  'name': 'solar-p-us-west-2-790-kb',\n",
      "  'roleArn': 'arn:aws:iam::790231119814:role/AmazonBedrockExecutionRoleForKnowledgeBase_784',\n",
      "  'status': 'CREATING',\n",
      "  'storageConfiguration': { 'opensearchServerlessConfiguration': { 'collectionArn': 'arn:aws:aoss:us-west-2:790231119814:collection/2cfygalhme8yl6frb90k',\n",
      "                                                                   'fieldMapping': { 'metadataField': 'text-metadata',\n",
      "                                                                                     'textField': 'text',\n",
      "                                                                                     'vectorField': 'vector'},\n",
      "                                                                   'vectorIndexName': 'solar-p-us-west-2-790-kb-index-784'},\n",
      "                            'type': 'OPENSEARCH_SERVERLESS'},\n",
      "  'updatedAt': datetime.datetime(2025, 3, 6, 0, 2, 11, 513215, tzinfo=tzlocal())}\n",
      "{ 'createdAt': datetime.datetime(2025, 3, 6, 0, 2, 12, 130434, tzinfo=tzlocal()),\n",
      "  'dataDeletionPolicy': 'RETAIN',\n",
      "  'dataSourceConfiguration': { 's3Configuration': { 'bucketArn': 'arn:aws:s3:::solar-p-kb-us-west-2-790231119814'},\n",
      "                               'type': 'S3'},\n",
      "  'dataSourceId': 'HDBGUXHVCJ',\n",
      "  'description': 'KB containing solar panel instructions for installation and '\n",
      "                 'maintenance',\n",
      "  'knowledgeBaseId': 'BCT5W5W7PJ',\n",
      "  'name': 'solar-p-us-west-2-790-kb',\n",
      "  'status': 'AVAILABLE',\n",
      "  'updatedAt': datetime.datetime(2025, 3, 6, 0, 2, 12, 130434, tzinfo=tzlocal()),\n",
      "  'vectorIngestionConfiguration': { 'chunkingConfiguration': { 'chunkingStrategy': 'FIXED_SIZE',\n",
      "                                                               'fixedSizeChunkingConfiguration': { 'maxTokens': 512,\n",
      "                                                                                                   'overlapPercentage': 20}}}}\n",
      "========================================================================================\n",
      "Knowledge Base ID: BCT5W5W7PJ\n",
      "Data Source ID: HDBGUXHVCJ\n",
      "CPU times: user 300 ms, sys: 44.3 ms, total: 345 ms\n",
      "Wall time: 3min 33s\n"
     ]
    }
   ],
   "source": [
    "%%time\n",
    "kb_id, ds_id = kb.create_or_retrieve_knowledge_base(\n",
    "    knowledge_base_name,\n",
    "    knowledge_base_description,\n",
    "    bucket_name\n",
    ")\n",
    "\n",
    "print(f\"Knowledge Base ID: {kb_id}\")\n",
    "print(f\"Data Source ID: {ds_id}\")"
   ]
  },
  {
   "cell_type": "markdown",
   "id": "a6f04f9e",
   "metadata": {
    "pycharm": {
     "name": "#%% md\n"
    }
   },
   "source": [
    "### Create Synthetic Data to Load on S3\n",
    "\n",
    "Instead of get data elsewhere, you're going to generate data, using a LLM on Amazon Bedrock.\n",
    "This fake data that will be generated, will be uploaded into a S3 bucket and then added into an Amazon Bedrock Knowledge Base."
   ]
  },
  {
   "cell_type": "code",
   "execution_count": 6,
   "id": "f9c9b44c",
   "metadata": {
    "pycharm": {
     "name": "#%%\n"
    }
   },
   "outputs": [
    {
     "name": "stdout",
     "output_type": "stream",
     "text": [
      "The kb_documents directory already exists!\n"
     ]
    }
   ],
   "source": [
    "path = \"kb_documents\"\n",
    "# Check whether the specified path exists or not\n",
    "isExist = os.path.exists(path)\n",
    "if not isExist:\n",
    "   # Create a n ew directory if it does not exist\n",
    "   os.makedirs(path)\n",
    "   print(\"The {} directory was created!\".format(path))\n",
    "else:\n",
    "   print(\"The {} directory already exists!\".format(path))"
   ]
  },
  {
   "cell_type": "markdown",
   "id": "eb1d898b",
   "metadata": {
    "pycharm": {
     "name": "#%% md\n"
    }
   },
   "source": [
    "Creating helper methods to invoke LLM on Bedrock and to write a local file using Python"
   ]
  },
  {
   "cell_type": "code",
   "execution_count": 7,
   "id": "eb952b08",
   "metadata": {
    "pycharm": {
     "name": "#%%\n"
    }
   },
   "outputs": [],
   "source": [
    "def invoke_bedrock_generate_energy_files(prompt):\n",
    "    message_list = []\n",
    "\n",
    "    initial_message = {\n",
    "        \"role\": \"user\",\n",
    "        \"content\": [\n",
    "            { \"text\": prompt } \n",
    "        ],\n",
    "    }\n",
    "\n",
    "    message_list.append(initial_message)\n",
    "\n",
    "    response = bedrock_client.converse(\n",
    "        modelId=agent_foundation_model[0],\n",
    "        messages=message_list,\n",
    "        inferenceConfig={\n",
    "            \"maxTokens\": 2048,\n",
    "            \"temperature\": 0\n",
    "        },\n",
    "    )\n",
    "\n",
    "    return response['output']['message']\n",
    "\n",
    "\n",
    "def write_file(file_name, content):\n",
    "    f = open(file_name, 'w')\n",
    "    f.write(content)\n",
    "    f.close"
   ]
  },
  {
   "cell_type": "markdown",
   "id": "c3cd11d3",
   "metadata": {
    "pycharm": {
     "name": "#%% md\n"
    }
   },
   "source": [
    "Generating one file with instructions on how to install a solar panel."
   ]
  },
  {
   "cell_type": "code",
   "execution_count": 8,
   "id": "89384886",
   "metadata": {
    "pycharm": {
     "name": "#%%\n"
    }
   },
   "outputs": [
    {
     "name": "stdout",
     "output_type": "stream",
     "text": [
      "Generated data:\n",
      "Sunpower X:\n",
      "This solar panel model is designed for residential use, with a power output of 350 watts and an efficiency of 22%. It features a sleek, low-profile design and is made with high-quality monocrystalline silicon cells. The Sunpower X is known for its durability and long-lasting performance, with a 25-year warranty.\n",
      "\n",
      "Sunpower Y:\n",
      "The Sunpower Y is a more powerful model, with a power output of 400 watts and an efficiency of 23%. It is suitable for larger homes or those with higher energy demands. This model features advanced tracking technology, which allows it to follow the sun's movement and maximize energy production throughout the day.\n",
      "\n",
      "Sunpower Double-X:\n",
      "The Sunpower Double-X is the most advanced model in the lineup, with a power output of 450 watts and an efficiency of 24%. It is designed for homeowners who want to maximize their solar energy production. This model features a unique dual-panel design, which allows it to capture more sunlight and generate more electricity.\n",
      "\n",
      "Installation Instructions:\n",
      "\n",
      "Sunpower X:\n",
      "1. Assess the installation site and ensure it meets the necessary requirements, such as roof orientation, tilt angle, and shading.\n",
      "2. Obtain the necessary permits and approvals from local authorities to ensure compliance with energy regulations.\n",
      "3. Prepare the installation area by clearing any obstructions and ensuring the roof is structurally sound.\n",
      "4. Mount the solar panel frame securely to the roof, following the manufacturer's instructions.\n",
      "5. Connect the solar panel to the electrical system, ensuring proper grounding and safety measures.\n",
      "6. Install the necessary inverters, wiring, and other components to complete the system.\n",
      "7. Test the system to ensure it is functioning correctly and monitor its performance over time.\n",
      "\n",
      "Sunpower Y:\n",
      "1. Evaluate the installation site and ensure it is suitable for the advanced tracking technology.\n",
      "2. Obtain the necessary permits and approvals from local authorities.\n",
      "3. Prepare the installation area, including any necessary modifications to accommodate the tracking system.\n",
      "4. Install the solar panel frame and the tracking mechanism, following the manufacturer's instructions.\n",
      "5. Connect the solar panel to the electrical system, ensuring proper grounding and safety measures.\n",
      "6. Install the inverters, wiring, and other components to complete the system.\n",
      "7. Test the system and monitor its performance, adjusting the tracking mechanism as needed.\n",
      "\n",
      "Sunpower Double-X:\n",
      "1. Carefully assess the installation site and ensure it can support the dual-panel design.\n",
      "2. Obtain the necessary permits and approvals from local authorities.\n",
      "3. Prepare the installation area, including any necessary reinforcements to the roof structure.\n",
      "4. Install the dual-panel frame securely to the roof, following the manufacturer's instructions.\n",
      "5. Connect the solar panels to the electrical system, ensuring proper grounding and safety measures.\n",
      "6. Install the inverters, wiring, and other components to complete the system.\n",
      "7. Test the system and monitor its performance, making any necessary adjustments to optimize energy production.\n"
     ]
    }
   ],
   "source": [
    "text_generation_energy_instructions = '''\n",
    "    You will act as an expert on clean energy.\n",
    "    You will generate a step-by-step on how to install a solar panel at home.\n",
    "    You know the following fictional solar panel models: Sunpower X, Sunpower Y\n",
    "    and Sunpower double-X. For each one of those models, provide some general\n",
    "    model description and its features. Next provide a numbered list describing\n",
    "    how to install each model of solar panel. Include information about how to\n",
    "    ensure compliance with energy rules.\n",
    "\n",
    "    Answer only with the instructions and solar panel descriptions.\n",
    "    Avoid answer with afirmations like: \"OK, I can generate it,\",\n",
    "    \"As an expert on clean energy, I \", or \"Yes, please find following example.\"\n",
    "    Be direct and only reply the instructions and descriptions.\n",
    "'''\n",
    "\n",
    "solar_energy_file_name = 'solar-panel-instructions.txt'\n",
    "\n",
    "response_message = invoke_bedrock_generate_energy_files(\n",
    "    text_generation_energy_instructions\n",
    ")\n",
    "description_and_instructions = response_message['content'][0]['text']\n",
    "print(f\"Generated data:\\n{description_and_instructions}\")\n",
    "write_file(\n",
    "    '{}/{}'.format(path, solar_energy_file_name),\n",
    "    description_and_instructions\n",
    ")"
   ]
  },
  {
   "cell_type": "markdown",
   "id": "3ca5728c",
   "metadata": {
    "pycharm": {
     "name": "#%% md\n"
    }
   },
   "source": [
    "### Generating data prompt\n",
    "Generating another file with instructions on how to do maintenance on a solar panel."
   ]
  },
  {
   "cell_type": "code",
   "execution_count": 9,
   "id": "599cecaf",
   "metadata": {
    "pycharm": {
     "name": "#%%\n"
    }
   },
   "outputs": [
    {
     "name": "stdout",
     "output_type": "stream",
     "text": [
      "Generated data:\n",
      "Maintenance Instructions for Sunpower Solar Panel Models:\n",
      "\n",
      "Sunpower X:\n",
      "\n",
      "1. Regularly inspect the solar panels for any visible damage, such as cracks, discoloration, or debris buildup.\n",
      "2. Clean the solar panels using a soft-bristled brush and a mild, pH-neutral cleaning solution. Avoid using abrasive cleaners or high-pressure water, as they can damage the panels.\n",
      "3. Check the electrical connections and ensure they are tight and free from corrosion. Tighten any loose connections and replace any damaged wiring or connectors.\n",
      "4. Inspect the inverter and other system components for proper functioning. Check for any error codes or warning lights, and address any issues according to the manufacturer's recommendations.\n",
      "5. Monitor the system's energy production and compare it to the expected output. Significant deviations may indicate a problem that requires further investigation or maintenance.\n",
      "6. Ensure that the system is in compliance with local energy regulations by regularly reviewing any updates or changes to the rules. Keep records of all maintenance activities and system performance data.\n",
      "\n",
      "Sunpower Y:\n",
      "\n",
      "1. Regularly inspect the solar panels and the tracking mechanism for any visible damage or issues.\n",
      "2. Clean the solar panels using a soft-bristled brush and a mild, pH-neutral cleaning solution. Avoid using abrasive cleaners or high-pressure water, as they can damage the panels.\n",
      "3. Check the electrical connections and ensure they are tight and free from corrosion. Tighten any loose connections and replace any damaged wiring or connectors.\n",
      "4. Inspect the tracking mechanism and ensure it is functioning correctly. Check for any wear or damage to the moving parts and lubricate them as needed.\n",
      "5. Inspect the inverter and other system components for proper functioning. Check for any error codes or warning lights, and address any issues according to the manufacturer's recommendations.\n",
      "6. Monitor the system's energy production and compare it to the expected output. Significant deviations may indicate a problem that requires further investigation or maintenance.\n",
      "7. Ensure that the system is in compliance with local energy regulations by regularly reviewing any updates or changes to the rules. Keep records of all maintenance activities and system performance data.\n",
      "\n",
      "Sunpower Double-X:\n",
      "\n",
      "1. Regularly inspect the dual-panel design and ensure that both panels are functioning correctly.\n",
      "2. Clean the solar panels using a soft-bristled brush and a mild, pH-neutral cleaning solution. Avoid using abrasive cleaners or high-pressure water, as they can damage the panels.\n",
      "3. Check the electrical connections and ensure they are tight and free from corrosion. Tighten any loose connections and replace any damaged wiring or connectors.\n",
      "4. Inspect the structural integrity of the dual-panel frame and ensure it is securely mounted to the roof.\n",
      "5. Inspect the inverter and other system components for proper functioning. Check for any error codes or warning lights, and address any issues according to the manufacturer's recommendations.\n",
      "6. Monitor the system's energy production and compare it to the expected output. Significant deviations may indicate a problem that requires further investigation or maintenance.\n",
      "7. Ensure that the system is in compliance with local energy regulations by regularly reviewing any updates or changes to the rules. Keep records of all maintenance activities and system performance data.\n",
      "\n",
      "Remember to follow all safety protocols and local regulations when performing any maintenance on your solar energy system. It is also recommended to consult with a qualified solar energy professional if you have any concerns or questions about the maintenance of your Sunpower solar panels.\n"
     ]
    }
   ],
   "source": [
    "text_generation_energy_instructions = f'''\n",
    "    You will be act as an expert on clean energy.\n",
    "    You know the following fictional solar panel models: Sunpower X, Sunpower Y\n",
    "    and Sunpower double-X. Here is are some descriptions of the different\n",
    "    models and how to install them:\n",
    "    <description_and_instructions>\n",
    "    {description_and_instructions}\n",
    "    </description_and_instructions>\n",
    "    Generate a step-by-step instructions on how to do maintenance on each of\n",
    "    those models at a regular home. Include information about how to\n",
    "    ensure consistent compliance with energy rules.\n",
    "    Just answer in a numbered list.\n",
    "'''\n",
    "\n",
    "solar_energy_file_name = 'solar-panel-maintenance.txt'\n",
    "\n",
    "response_message = invoke_bedrock_generate_energy_files(\n",
    "    text_generation_energy_instructions\n",
    ")\n",
    "print(f\"Generated data:\\n{response_message['content'][0]['text']}\")\n",
    "\n",
    "write_file(\n",
    "    '{}/{}'.format(path, solar_energy_file_name),\n",
    "    response_message['content'][0]['text']\n",
    ")\n"
   ]
  },
  {
   "cell_type": "markdown",
   "id": "d34e2b5a",
   "metadata": {
    "pycharm": {
     "name": "#%% md\n"
    }
   },
   "source": [
    "### Uploading data to S3\n",
    "Uploading generated files into S3 Bucket."
   ]
  },
  {
   "cell_type": "code",
   "execution_count": 10,
   "id": "9796eaa4",
   "metadata": {
    "pycharm": {
     "name": "#%%\n"
    }
   },
   "outputs": [],
   "source": [
    "def upload_directory(path, bucket_name):\n",
    "    for root,dirs,files in os.walk(path):\n",
    "        for file in files:\n",
    "            file_to_upload = os.path.join(root,file)\n",
    "            print(f\"uploading file {file_to_upload} to {bucket_name}\")\n",
    "            s3_client.upload_file(file_to_upload,bucket_name,file)"
   ]
  },
  {
   "cell_type": "markdown",
   "id": "2bbde4b1-7576-42ac-b371-621e3162380d",
   "metadata": {
    "pycharm": {
     "name": "#%% md\n"
    }
   },
   "source": [
    "### Synchronizing Knowledge Base\n",
    "Now that the data is available in the s3 bucket, let's synchronize it to our knowledge base"
   ]
  },
  {
   "cell_type": "code",
   "execution_count": 11,
   "id": "e9cb3260",
   "metadata": {
    "pycharm": {
     "name": "#%%\n"
    }
   },
   "outputs": [
    {
     "name": "stdout",
     "output_type": "stream",
     "text": [
      "uploading file kb_documents/solar-panel-instructions.txt to solar-p-kb-us-west-2-790231119814\n",
      "uploading file kb_documents/solar-panel-maintenance.txt to solar-p-kb-us-west-2-790231119814\n",
      "{ 'dataSourceId': 'HDBGUXHVCJ',\n",
      "  'ingestionJobId': 'WH7FX5BYZB',\n",
      "  'knowledgeBaseId': 'BCT5W5W7PJ',\n",
      "  'startedAt': datetime.datetime(2025, 3, 6, 0, 3, 26, 666091, tzinfo=tzlocal()),\n",
      "  'statistics': { 'numberOfDocumentsDeleted': 0,\n",
      "                  'numberOfDocumentsFailed': 0,\n",
      "                  'numberOfDocumentsScanned': 0,\n",
      "                  'numberOfMetadataDocumentsModified': 0,\n",
      "                  'numberOfMetadataDocumentsScanned': 0,\n",
      "                  'numberOfModifiedDocumentsIndexed': 0,\n",
      "                  'numberOfNewDocumentsIndexed': 0},\n",
      "  'status': 'STARTING',\n",
      "  'updatedAt': datetime.datetime(2025, 3, 6, 0, 3, 26, 666091, tzinfo=tzlocal())}\n",
      "{ 'dataSourceId': 'HDBGUXHVCJ',\n",
      "  'ingestionJobId': 'WH7FX5BYZB',\n",
      "  'knowledgeBaseId': 'BCT5W5W7PJ',\n",
      "  'startedAt': datetime.datetime(2025, 3, 6, 0, 3, 26, 666091, tzinfo=tzlocal()),\n",
      "  'statistics': { 'numberOfDocumentsDeleted': 0,\n",
      "                  'numberOfDocumentsFailed': 0,\n",
      "                  'numberOfDocumentsScanned': 2,\n",
      "                  'numberOfMetadataDocumentsModified': 0,\n",
      "                  'numberOfMetadataDocumentsScanned': 0,\n",
      "                  'numberOfModifiedDocumentsIndexed': 0,\n",
      "                  'numberOfNewDocumentsIndexed': 2},\n",
      "  'status': 'COMPLETE',\n",
      "  'updatedAt': datetime.datetime(2025, 3, 6, 0, 3, 32, 904262, tzinfo=tzlocal())}\n"
     ]
    }
   ],
   "source": [
    "upload_directory(\"kb_documents\", bucket_name)\n",
    "\n",
    "# sync knowledge base\n",
    "kb.synchronize_data(kb_id, ds_id)"
   ]
  },
  {
   "cell_type": "markdown",
   "id": "c7593e31",
   "metadata": {
    "pycharm": {
     "name": "#%% md\n"
    }
   },
   "source": [
    "## Creating Agent\n",
    "\n",
    "Create the Solar Panel agent that will have a Knowledge Base and also a Lambda action group to handle exception workflow (when information is not found on KB).\n",
    "\n",
    "For this agent we will use the following instructions:\n",
    "```\n",
    "You are a Solar Energy Assistant that helps customers with solar panel installation and maintenance guidance.\n",
    "\n",
    "Your capabilities include:\n",
    "1. Providing installation instructions\n",
    "2. Providing maintenance procedures\n",
    "3. Troubleshooting common issues\n",
    "4. Creating support tickets for specialist assistance\n",
    "\n",
    "Core behaviors:\n",
    "1. Always use available information before asking customers for additional details\n",
    "2. Maintain a professional yet approachable tone\n",
    "3. Provide clear, direct answers\n",
    "4. Present technical information in an easy-to-understand manner\n",
    "5. NEVER invent information not available in your knowledge base\n",
    "\n",
    "Support ticket protocol:\n",
    "- Only generate tickets for specialist-level issues\n",
    "- Respond exclusively with case ID when creating tickets\n",
    "- Decline providing specialist advice beyond your scope\n",
    "\n",
    "Response style:\n",
    "- Be helpful and solution-oriented\n",
    "- Use clear, practical language\n",
    "- Focus on actionable guidance\n",
    "- Maintain natural conversation flow\n",
    "- Be concise yet informative\n",
    "- Do not add extra information not required by the user\n",
    "```\n",
    "We will also connect a knowledge base with the information about solar panels\n",
    "\n",
    "```\n",
    "Access the knowledge base when customers ask about to install and maintain solar panels\n",
    "```\n",
    "And we will make the following tool available to the agent:\n",
    "- `open_ticket`: to open new support tickets\n",
    "- `get_ticket_status`: to get the current status of an existing ticket"
   ]
  },
  {
   "cell_type": "code",
   "execution_count": 12,
   "id": "864e39d7",
   "metadata": {
    "pycharm": {
     "name": "#%%\n"
    }
   },
   "outputs": [],
   "source": [
    "kb_info = kb.get_kb(kb_id)\n",
    "kb_arn = kb_info['knowledgeBase']['knowledgeBaseArn']"
   ]
  },
  {
   "cell_type": "code",
   "execution_count": 13,
   "id": "9e265f56",
   "metadata": {
    "pycharm": {
     "name": "#%%\n"
    }
   },
   "outputs": [],
   "source": [
    "kb_config = {\n",
    "    'kb_id': kb_id,\n",
    "    'kb_instruction': 'Access the knowledge base when customers ask about to install and maintain solar panels'\n",
    "}"
   ]
  },
  {
   "cell_type": "code",
   "execution_count": 14,
   "id": "e1e168c8-180f-4977-96dd-d8006436208b",
   "metadata": {
    "pycharm": {
     "name": "#%%\n"
    }
   },
   "outputs": [
    {
     "data": {
      "text/plain": [
       "('08JDUGZSS7',\n",
       " 'TSTALIASID',\n",
       " 'arn:aws:bedrock:us-west-2:790231119814:agent-alias/08JDUGZSS7/TSTALIASID')"
      ]
     },
     "execution_count": 14,
     "metadata": {},
     "output_type": "execute_result"
    }
   ],
   "source": [
    "agent_instruction = \"\"\"You are a Solar Energy Assistant that helps customers with solar panel installation and maintenance guidance.\n",
    "\n",
    "Your capabilities include:\n",
    "1. Providing installation instructions\n",
    "2. Offering maintenance procedures\n",
    "3. Troubleshooting common issues\n",
    "4. Creating support tickets for specialist assistance\n",
    "\n",
    "Core behaviors:\n",
    "1. Always use available information before asking customers for additional details\n",
    "2. Maintain a professional yet approachable tone\n",
    "3. Provide clear, direct answers\n",
    "4. Present technical information in an easy-to-understand manner\n",
    "\n",
    "Support ticket protocol:\n",
    "- Only generate tickets for specialist-level issues\n",
    "- Respond exclusively with case ID when creating tickets\n",
    "- Decline providing specialist advice beyond your scope\n",
    "\n",
    "Response style:\n",
    "- Be helpful and solution-oriented\n",
    "- Use clear, practical language\n",
    "- Focus on actionable guidance\n",
    "- Maintain natural conversation flow\n",
    "- Be concise yet informative\n",
    "- Do not add extra information not required by the user\"\"\"\n",
    "\n",
    "agent_description = \"\"\"You are a solar energy helper bot. \n",
    "    You can retrieve information on how to install and do maintenance on solar panels\"\"\"\n",
    "\n",
    "solar_agent = agents.create_agent(\n",
    "    solar_agent_name,\n",
    "    agent_description,\n",
    "    agent_instruction,\n",
    "    agent_foundation_model,\n",
    "    kb_arns=[kb_arn]\n",
    ")\n",
    "solar_agent"
   ]
  },
  {
   "cell_type": "code",
   "execution_count": 15,
   "id": "d2cfc71d-4b0e-4b00-9159-cc3efd2becbc",
   "metadata": {
    "pycharm": {
     "name": "#%%\n"
    }
   },
   "outputs": [
    {
     "name": "stdout",
     "output_type": "stream",
     "text": [
      "Waiting for agent status to change. Current status CREATING\n",
      "Agent id 08JDUGZSS7 current status: NOT_PREPARED\n"
     ]
    }
   ],
   "source": [
    "agents.associate_kb_with_agent(\n",
    "    solar_agent[0], kb_config['kb_instruction'], kb_config['kb_id']\n",
    ")"
   ]
  },
  {
   "cell_type": "markdown",
   "id": "f595c535",
   "metadata": {
    "pycharm": {
     "name": "#%% md\n"
    }
   },
   "source": [
    "### Creating Action Group\n",
    "\n",
    "On this session, we're going create an action group to handle support tickets and associate it with our agent. To do so, we will first create a Lambda function code to fulfill the execution of the agent's actions Next we will define the actions available actions that an agent can take using function details. Similar to the previous agent, you can also define the actions available using OpenAPI Schema.\n",
    "\n",
    "#### Creating Lambda function\n",
    "First let's create the lambda function"
   ]
  },
  {
   "cell_type": "code",
   "execution_count": 16,
   "id": "7086a3ba",
   "metadata": {
    "pycharm": {
     "name": "#%%\n"
    }
   },
   "outputs": [
    {
     "name": "stdout",
     "output_type": "stream",
     "text": [
      "Overwriting solar_energy.py\n"
     ]
    }
   ],
   "source": [
    "%%writefile solar_energy.py\n",
    "import os\n",
    "import json\n",
    "import uuid\n",
    "import boto3\n",
    "\n",
    "from boto3.dynamodb.conditions import Key, Attr\n",
    "\n",
    "dynamodb_resource = boto3.resource('dynamodb')\n",
    "dynamodb_table = os.getenv('dynamodb_table')\n",
    "dynamodb_pk = os.getenv('dynamodb_pk')\n",
    "dynamodb_sk = os.getenv('dynamodb_sk')\n",
    "\n",
    "def get_named_parameter(event, name):\n",
    "    try:\n",
    "        return next(item for item in event['parameters'] if item['name'] == name)['value']\n",
    "    except:\n",
    "        return None\n",
    "    \n",
    "def populate_function_response(event, response_body):\n",
    "    return {'response': {'actionGroup': event['actionGroup'], 'function': event['function'],\n",
    "                'functionResponse': {'responseBody': {'TEXT': {'body': str(response_body)}}}}}\n",
    "\n",
    "def put_dynamodb(table_name, item):\n",
    "    table = dynamodb_resource.Table(table_name)\n",
    "    resp = table.put_item(Item=item)\n",
    "    return resp\n",
    "\n",
    "def read_dynamodb(table_name: str, \n",
    "                   pk_field: str,\n",
    "                   pk_value: str,\n",
    "                   sk_field: str=None, \n",
    "                   sk_value: str=None):\n",
    "    try:\n",
    "        table = dynamodb_resource.Table(table_name)\n",
    "        # Create expression\n",
    "        if sk_value:\n",
    "            key_expression = Key(pk_field).eq(pk_value) & Key(sk_field).begins_with(sk_value)\n",
    "        else:\n",
    "            key_expression = Key(pk_field).eq(pk_value)\n",
    "\n",
    "        query_data = table.query(\n",
    "            KeyConditionExpression=key_expression\n",
    "        )\n",
    "        \n",
    "        return query_data['Items']\n",
    "    except Exception:\n",
    "        print(f'Error querying table: {table_name}.')\n",
    "\n",
    "def open_ticket(customer_id, msg):\n",
    "    ticket_id = str(uuid.uuid1())\n",
    "    item = {\n",
    "        'ticket_id': ticket_id,\n",
    "        'customer_id': customer_id,\n",
    "        'description': msg,\n",
    "        'status': 'created'\n",
    "    }\n",
    "    resp = put_dynamodb(dynamodb_table, item)\n",
    "    print(resp)\n",
    "    return \"Thanks for contact customer {}! Your support case was generated with ID: {}\".format(\n",
    "        customer_id, ticket_id\n",
    "    )\n",
    "\n",
    "def get_ticket_status(customer_id,\n",
    "                      ticket_id: str=None):\n",
    "    return read_dynamodb(dynamodb_table, \n",
    "                         dynamodb_pk,\n",
    "                         customer_id,\n",
    "                         dynamodb_sk,\n",
    "                         ticket_id)\n",
    "\n",
    "def lambda_handler(event, context):\n",
    "    print(event)\n",
    "    \n",
    "    # name of the function that should be invoked\n",
    "    function = event.get('function', '')\n",
    "\n",
    "    # parameters to invoke function with\n",
    "    parameters = event.get('parameters', [])\n",
    "    customer_id = get_named_parameter(event, \"customer_id\")\n",
    "\n",
    "    if function == 'open_ticket':\n",
    "        msg = get_named_parameter(event, \"msg\")\n",
    "        result = open_ticket(customer_id, msg)\n",
    "    elif function == 'get_ticket_status':\n",
    "        ticket_id = get_named_parameter(event, \"ticket_id\")\n",
    "        result = get_ticket_status(customer_id, ticket_id)\n",
    "    else:\n",
    "        result = f\"Error, function '{function}' not recognized\"\n",
    "\n",
    "    response = populate_function_response(event, result)\n",
    "    print(response)\n",
    "    return response"
   ]
  },
  {
   "cell_type": "markdown",
   "id": "4e111cd0",
   "metadata": {
    "pycharm": {
     "name": "#%% md\n"
    }
   },
   "source": [
    "### Defining available actions\n",
    "Now it's time to define the actions that can be taken by the agent"
   ]
  },
  {
   "cell_type": "code",
   "execution_count": 17,
   "id": "61fd71c6",
   "metadata": {
    "pycharm": {
     "name": "#%%\n"
    }
   },
   "outputs": [],
   "source": [
    "functions_def =[\n",
    "    {\n",
    "        \"name\": \"open_ticket\",\n",
    "        \"description\": \"\"\"Create a ticket to get help with information related with solar panel or clean energy\"\"\",\n",
    "        \"parameters\": {\n",
    "            \"customer_id\": {\n",
    "                \"description\": \"Unique customer identifier\",\n",
    "                \"required\": True,\n",
    "                \"type\": \"string\"\n",
    "            },\n",
    "            \"msg\": {\n",
    "                \"description\": \"The reason why customer is opening a ticket\",\n",
    "                \"required\": True,\n",
    "                \"type\": \"string\"\n",
    "            }\n",
    "        }\n",
    "    },\n",
    "    {\n",
    "        \"name\": \"get_ticket_status\",\n",
    "        \"description\": \"\"\"get the status of an existing ticket\"\"\",\n",
    "        \"parameters\": {\n",
    "            \"customer_id\": {\n",
    "                \"description\": \"Unique customer identifier\",\n",
    "                \"required\": True,\n",
    "                \"type\": \"string\"\n",
    "            },\n",
    "            \"ticket_id\": {\n",
    "                \"description\": \"Unique ticket identifier\",\n",
    "                \"required\": False,\n",
    "                \"type\": \"string\"\n",
    "            }\n",
    "        }\n",
    "    }\n",
    "]"
   ]
  },
  {
   "cell_type": "markdown",
   "id": "d72cde32-57f6-4c13-bc8d-599ea67b6919",
   "metadata": {
    "pycharm": {
     "name": "#%% md\n"
    }
   },
   "source": [
    "#### Associating action group to agent\n",
    "Finally, we can associate a new action group with our previously created agent"
   ]
  },
  {
   "cell_type": "code",
   "execution_count": 18,
   "id": "f38fb3fd",
   "metadata": {
    "pycharm": {
     "name": "#%%\n"
    }
   },
   "outputs": [
    {
     "name": "stdout",
     "output_type": "stream",
     "text": [
      "Table solar-p-us-west-2-790-table already exists, skipping table creation step\n"
     ]
    },
    {
     "ename": "ResourceConflictException",
     "evalue": "An error occurred (ResourceConflictException) when calling the CreateFunction operation: Function already exist: fn-solar-p-us-west-2-790",
     "output_type": "error",
     "traceback": [
      "\u001b[0;31m---------------------------------------------------------------------------\u001b[0m",
      "\u001b[0;31mResourceConflictException\u001b[0m                 Traceback (most recent call last)",
      "Cell \u001b[0;32mIn[18], line 1\u001b[0m\n\u001b[0;32m----> 1\u001b[0m resp \u001b[38;5;241m=\u001b[39m \u001b[43magents\u001b[49m\u001b[38;5;241;43m.\u001b[39;49m\u001b[43madd_action_group_with_lambda\u001b[49m\u001b[43m(\u001b[49m\n\u001b[1;32m      2\u001b[0m \u001b[43m    \u001b[49m\u001b[43magent_name\u001b[49m\u001b[38;5;241;43m=\u001b[39;49m\u001b[43msolar_agent_name\u001b[49m\u001b[43m,\u001b[49m\n\u001b[1;32m      3\u001b[0m \u001b[43m    \u001b[49m\u001b[43mlambda_function_name\u001b[49m\u001b[38;5;241;43m=\u001b[39;49m\u001b[43msolar_lambda_name\u001b[49m\u001b[43m,\u001b[49m\n\u001b[1;32m      4\u001b[0m \u001b[43m    \u001b[49m\u001b[43msource_code_file\u001b[49m\u001b[38;5;241;43m=\u001b[39;49m\u001b[38;5;124;43m\"\u001b[39;49m\u001b[38;5;124;43msolar_energy.py\u001b[39;49m\u001b[38;5;124;43m\"\u001b[39;49m\u001b[43m,\u001b[49m\n\u001b[1;32m      5\u001b[0m \u001b[43m    \u001b[49m\u001b[43magent_functions\u001b[49m\u001b[38;5;241;43m=\u001b[39;49m\u001b[43mfunctions_def\u001b[49m\u001b[43m,\u001b[49m\n\u001b[1;32m      6\u001b[0m \u001b[43m    \u001b[49m\u001b[43magent_action_group_name\u001b[49m\u001b[38;5;241;43m=\u001b[39;49m\u001b[38;5;124;43m\"\u001b[39;49m\u001b[38;5;124;43msolar_energy_actions\u001b[39;49m\u001b[38;5;124;43m\"\u001b[39;49m\u001b[43m,\u001b[49m\n\u001b[1;32m      7\u001b[0m \u001b[43m    \u001b[49m\u001b[43magent_action_group_description\u001b[49m\u001b[38;5;241;43m=\u001b[39;49m\u001b[38;5;124;43m\"\u001b[39;49m\u001b[38;5;124;43mFunction to open an energy ticket for a user or get status from an opened ticket\u001b[39;49m\u001b[38;5;124;43m\"\u001b[39;49m\u001b[43m,\u001b[49m\n\u001b[1;32m      8\u001b[0m \u001b[43m    \u001b[49m\u001b[43mdynamo_args\u001b[49m\u001b[38;5;241;43m=\u001b[39;49m\u001b[43mdynamoDB_args\u001b[49m\n\u001b[1;32m      9\u001b[0m \u001b[43m)\u001b[49m\n",
      "File \u001b[0;32m~/bedrock-multi-agents-collaboration-workshop/2-solar-panel/../utils/bedrock_agent_helper.py:1164\u001b[0m, in \u001b[0;36mAgentsForAmazonBedrock.add_action_group_with_lambda\u001b[0;34m(self, agent_name, lambda_function_name, source_code_file, agent_functions, agent_action_group_name, agent_action_group_description, additional_function_iam_policy, sub_agent_arns, dynamo_args, verbose)\u001b[0m\n\u001b[1;32m   1162\u001b[0m     _lambda_arn \u001b[38;5;241m=\u001b[39m source_code_file\n\u001b[1;32m   1163\u001b[0m \u001b[38;5;28;01melse\u001b[39;00m:\n\u001b[0;32m-> 1164\u001b[0m     _lambda_arn \u001b[38;5;241m=\u001b[39m \u001b[38;5;28;43mself\u001b[39;49m\u001b[38;5;241;43m.\u001b[39;49m\u001b[43mcreate_lambda\u001b[49m\u001b[43m(\u001b[49m\n\u001b[1;32m   1165\u001b[0m \u001b[43m        \u001b[49m\u001b[43magent_name\u001b[49m\u001b[43m,\u001b[49m\n\u001b[1;32m   1166\u001b[0m \u001b[43m        \u001b[49m\u001b[43mlambda_function_name\u001b[49m\u001b[43m,\u001b[49m\n\u001b[1;32m   1167\u001b[0m \u001b[43m        \u001b[49m\u001b[43msource_code_file\u001b[49m\u001b[43m,\u001b[49m\n\u001b[1;32m   1168\u001b[0m \u001b[43m        \u001b[49m\u001b[43madditional_function_iam_policy\u001b[49m\u001b[38;5;241;43m=\u001b[39;49m\u001b[43madditional_function_iam_policy\u001b[49m\u001b[43m,\u001b[49m\n\u001b[1;32m   1169\u001b[0m \u001b[43m        \u001b[49m\u001b[43msub_agent_arns\u001b[49m\u001b[38;5;241;43m=\u001b[39;49m\u001b[43msub_agent_arns\u001b[49m\u001b[43m,\u001b[49m\n\u001b[1;32m   1170\u001b[0m \u001b[43m        \u001b[49m\u001b[43mdynamo_args\u001b[49m\u001b[38;5;241;43m=\u001b[39;49m\u001b[43mdynamo_args\u001b[49m\n\u001b[1;32m   1171\u001b[0m \u001b[43m    \u001b[49m\u001b[43m)\u001b[49m\n\u001b[1;32m   1173\u001b[0m \u001b[38;5;28mself\u001b[39m\u001b[38;5;241m.\u001b[39mwait_agent_status_update(_agent_id)\n\u001b[1;32m   1175\u001b[0m \u001b[38;5;28;01mif\u001b[39;00m verbose:\n",
      "File \u001b[0;32m~/bedrock-multi-agents-collaboration-workshop/2-solar-panel/../utils/bedrock_agent_helper.py:541\u001b[0m, in \u001b[0;36mAgentsForAmazonBedrock.create_lambda\u001b[0;34m(self, agent_name, lambda_function_name, source_code_file, additional_function_iam_policy, sub_agent_arns, dynamo_args)\u001b[0m\n\u001b[1;32m    536\u001b[0m     lambda_role \u001b[38;5;241m=\u001b[39m \u001b[38;5;28mself\u001b[39m\u001b[38;5;241m.\u001b[39m_create_lambda_iam_role(\n\u001b[1;32m    537\u001b[0m         agent_name, sub_agent_arns\n\u001b[1;32m    538\u001b[0m     )\n\u001b[1;32m    540\u001b[0m \u001b[38;5;66;03m# Create Lambda Function\u001b[39;00m\n\u001b[0;32m--> 541\u001b[0m _lambda_function \u001b[38;5;241m=\u001b[39m \u001b[38;5;28;43mself\u001b[39;49m\u001b[38;5;241;43m.\u001b[39;49m\u001b[43m_lambda_client\u001b[49m\u001b[38;5;241;43m.\u001b[39;49m\u001b[43mcreate_function\u001b[49m\u001b[43m(\u001b[49m\n\u001b[1;32m    542\u001b[0m \u001b[43m    \u001b[49m\u001b[43mFunctionName\u001b[49m\u001b[38;5;241;43m=\u001b[39;49m\u001b[43mlambda_function_name\u001b[49m\u001b[43m,\u001b[49m\n\u001b[1;32m    543\u001b[0m \u001b[43m    \u001b[49m\u001b[43mRuntime\u001b[49m\u001b[38;5;241;43m=\u001b[39;49m\u001b[43mPYTHON_RUNTIME\u001b[49m\u001b[43m,\u001b[49m\n\u001b[1;32m    544\u001b[0m \u001b[43m    \u001b[49m\u001b[43mTimeout\u001b[49m\u001b[38;5;241;43m=\u001b[39;49m\u001b[43mPYTHON_TIMEOUT\u001b[49m\u001b[43m,\u001b[49m\n\u001b[1;32m    545\u001b[0m \u001b[43m    \u001b[49m\u001b[43mRole\u001b[49m\u001b[38;5;241;43m=\u001b[39;49m\u001b[43mlambda_role\u001b[49m\u001b[43m,\u001b[49m\n\u001b[1;32m    546\u001b[0m \u001b[43m    \u001b[49m\u001b[43mCode\u001b[49m\u001b[38;5;241;43m=\u001b[39;49m\u001b[43m{\u001b[49m\u001b[38;5;124;43m\"\u001b[39;49m\u001b[38;5;124;43mZipFile\u001b[39;49m\u001b[38;5;124;43m\"\u001b[39;49m\u001b[43m:\u001b[49m\u001b[43m \u001b[49m\u001b[43mzip_content\u001b[49m\u001b[43m}\u001b[49m\u001b[43m,\u001b[49m\n\u001b[1;32m    547\u001b[0m \u001b[43m    \u001b[49m\u001b[43mHandler\u001b[49m\u001b[38;5;241;43m=\u001b[39;49m\u001b[38;5;124;43mf\u001b[39;49m\u001b[38;5;124;43m\"\u001b[39;49m\u001b[38;5;132;43;01m{\u001b[39;49;00m\u001b[43m_base_filename\u001b[49m\u001b[38;5;132;43;01m}\u001b[39;49;00m\u001b[38;5;124;43m.lambda_handler\u001b[39;49m\u001b[38;5;124;43m\"\u001b[39;49m\u001b[43m,\u001b[49m\n\u001b[1;32m    548\u001b[0m \u001b[43m    \u001b[49m\u001b[38;5;66;43;03m# TODO: make this an optional keyword arg. only supply it when sub-agent-arns are provided\u001b[39;49;00m\n\u001b[1;32m    549\u001b[0m \u001b[43m    \u001b[49m\u001b[43mEnvironment\u001b[49m\u001b[38;5;241;43m=\u001b[39;49m\u001b[43menv_variables\u001b[49m\n\u001b[1;32m    550\u001b[0m \u001b[43m\u001b[49m\u001b[43m)\u001b[49m\n\u001b[1;32m    552\u001b[0m \u001b[38;5;28mself\u001b[39m\u001b[38;5;241m.\u001b[39m_allow_agent_lambda(_agent_id, lambda_function_name)\n\u001b[1;32m    554\u001b[0m \u001b[38;5;28;01mreturn\u001b[39;00m _lambda_function[\u001b[38;5;124m\"\u001b[39m\u001b[38;5;124mFunctionArn\u001b[39m\u001b[38;5;124m\"\u001b[39m]\n",
      "File \u001b[0;32m/opt/conda/lib/python3.11/site-packages/botocore/client.py:570\u001b[0m, in \u001b[0;36mClientCreator._create_api_method.<locals>._api_call\u001b[0;34m(self, *args, **kwargs)\u001b[0m\n\u001b[1;32m    566\u001b[0m     \u001b[38;5;28;01mraise\u001b[39;00m \u001b[38;5;167;01mTypeError\u001b[39;00m(\n\u001b[1;32m    567\u001b[0m         \u001b[38;5;124mf\u001b[39m\u001b[38;5;124m\"\u001b[39m\u001b[38;5;132;01m{\u001b[39;00mpy_operation_name\u001b[38;5;132;01m}\u001b[39;00m\u001b[38;5;124m() only accepts keyword arguments.\u001b[39m\u001b[38;5;124m\"\u001b[39m\n\u001b[1;32m    568\u001b[0m     )\n\u001b[1;32m    569\u001b[0m \u001b[38;5;66;03m# The \"self\" in this scope is referring to the BaseClient.\u001b[39;00m\n\u001b[0;32m--> 570\u001b[0m \u001b[38;5;28;01mreturn\u001b[39;00m \u001b[38;5;28;43mself\u001b[39;49m\u001b[38;5;241;43m.\u001b[39;49m\u001b[43m_make_api_call\u001b[49m\u001b[43m(\u001b[49m\u001b[43moperation_name\u001b[49m\u001b[43m,\u001b[49m\u001b[43m \u001b[49m\u001b[43mkwargs\u001b[49m\u001b[43m)\u001b[49m\n",
      "File \u001b[0;32m/opt/conda/lib/python3.11/site-packages/botocore/context.py:124\u001b[0m, in \u001b[0;36mwith_current_context.<locals>.decorator.<locals>.wrapper\u001b[0;34m(*args, **kwargs)\u001b[0m\n\u001b[1;32m    122\u001b[0m \u001b[38;5;28;01mif\u001b[39;00m hook:\n\u001b[1;32m    123\u001b[0m     hook()\n\u001b[0;32m--> 124\u001b[0m \u001b[38;5;28;01mreturn\u001b[39;00m \u001b[43mfunc\u001b[49m\u001b[43m(\u001b[49m\u001b[38;5;241;43m*\u001b[39;49m\u001b[43margs\u001b[49m\u001b[43m,\u001b[49m\u001b[43m \u001b[49m\u001b[38;5;241;43m*\u001b[39;49m\u001b[38;5;241;43m*\u001b[39;49m\u001b[43mkwargs\u001b[49m\u001b[43m)\u001b[49m\n",
      "File \u001b[0;32m/opt/conda/lib/python3.11/site-packages/botocore/client.py:1031\u001b[0m, in \u001b[0;36mBaseClient._make_api_call\u001b[0;34m(self, operation_name, api_params)\u001b[0m\n\u001b[1;32m   1027\u001b[0m     error_code \u001b[38;5;241m=\u001b[39m error_info\u001b[38;5;241m.\u001b[39mget(\u001b[38;5;124m\"\u001b[39m\u001b[38;5;124mQueryErrorCode\u001b[39m\u001b[38;5;124m\"\u001b[39m) \u001b[38;5;129;01mor\u001b[39;00m error_info\u001b[38;5;241m.\u001b[39mget(\n\u001b[1;32m   1028\u001b[0m         \u001b[38;5;124m\"\u001b[39m\u001b[38;5;124mCode\u001b[39m\u001b[38;5;124m\"\u001b[39m\n\u001b[1;32m   1029\u001b[0m     )\n\u001b[1;32m   1030\u001b[0m     error_class \u001b[38;5;241m=\u001b[39m \u001b[38;5;28mself\u001b[39m\u001b[38;5;241m.\u001b[39mexceptions\u001b[38;5;241m.\u001b[39mfrom_code(error_code)\n\u001b[0;32m-> 1031\u001b[0m     \u001b[38;5;28;01mraise\u001b[39;00m error_class(parsed_response, operation_name)\n\u001b[1;32m   1032\u001b[0m \u001b[38;5;28;01melse\u001b[39;00m:\n\u001b[1;32m   1033\u001b[0m     \u001b[38;5;28;01mreturn\u001b[39;00m parsed_response\n",
      "\u001b[0;31mResourceConflictException\u001b[0m: An error occurred (ResourceConflictException) when calling the CreateFunction operation: Function already exist: fn-solar-p-us-west-2-790"
     ]
    }
   ],
   "source": [
    "resp = agents.add_action_group_with_lambda(\n",
    "    agent_name=solar_agent_name,\n",
    "    lambda_function_name=solar_lambda_name,\n",
    "    source_code_file=\"solar_energy.py\",\n",
    "    agent_functions=functions_def,\n",
    "    agent_action_group_name=\"solar_energy_actions\",\n",
    "    agent_action_group_description=\"Function to open an energy ticket for a user or get status from an opened ticket\",\n",
    "    dynamo_args=dynamoDB_args\n",
    ")"
   ]
  },
  {
   "cell_type": "markdown",
   "id": "24226dfa-a3ce-4ba3-bcff-da63e99af5c0",
   "metadata": {
    "pycharm": {
     "name": "#%% md\n"
    }
   },
   "source": [
    "## Testing Agent\n",
    "\n",
    "Now, let's run some tests on the agent we just created to make sure it's working. To do so we will use our test alias: `TSTALIASID` which allows you to invoke a draft version of your agent\n",
    "\n",
    "### Testing maintainance question\n",
    "First let's ask a question related to maintaining an existing solar panel"
   ]
  },
  {
   "cell_type": "code",
   "execution_count": null,
   "id": "5bff7201-db66-4cf6-b997-2d9a498b5d0c",
   "metadata": {},
   "outputs": [],
   "source": [
    "## Testing Agent\n"
   ]
  },
  {
   "cell_type": "code",
   "execution_count": null,
   "id": "fa26f3ee",
   "metadata": {
    "pycharm": {
     "name": "#%%\n"
    }
   },
   "outputs": [],
   "source": [
    "%%time\n",
    "response = agents.invoke(\n",
    "    \"Can I get details on my ticket? My customer id is 1 get my ticket id from our previous conversation {}\".format(ticket), \n",
    "    solar_agent[0], enable_trace=True\n",
    ")\n",
    "print(\"====================\")\n",
    "print(response)"
   ]
  },
  {
   "cell_type": "code",
   "execution_count": null,
   "id": "d94236d9",
   "metadata": {
    "pycharm": {
     "name": "#%%\n"
    }
   },
   "outputs": [],
   "source": [
    "solar_agent_alias_id, solar_agent_alias_arn = agents.create_agent_alias(\n",
    "    solar_agent[0], 'v1'\n",
    ")\n",
    "solar_agent_id = solar_agent[0]"
   ]
  },
  {
   "cell_type": "markdown",
   "id": "7cc715b7",
   "metadata": {
    "pycharm": {
     "name": "#%% md\n"
    }
   },
   "source": [
    "Store environment variables to be used on next notebooks."
   ]
  },
  {
   "cell_type": "code",
   "execution_count": null,
   "id": "29db93eb-9a51-48d2-a6ae-a31b7b5ddde1",
   "metadata": {
    "pycharm": {
     "name": "#%%\n"
    }
   },
   "outputs": [],
   "source": [
    "solar_agent_arn = agents.get_agent_arn_by_name(solar_agent_name)\n",
    "solar_kb = knowledge_base_name\n",
    "solar_dynamodb = dynamodb_table\n",
    "\n",
    "%store solar_agent_arn\n",
    "%store solar_agent_alias_arn\n",
    "%store solar_agent_alias_id\n",
    "%store solar_lambda_name\n",
    "%store solar_agent_name\n",
    "%store solar_agent_id\n",
    "%store solar_kb\n",
    "%store solar_dynamodb"
   ]
  },
  {
   "cell_type": "code",
   "execution_count": null,
   "id": "c29254c4",
   "metadata": {
    "pycharm": {
     "name": "#%%\n"
    }
   },
   "outputs": [],
   "source": [
    "solar_agent_arn, solar_agent_alias_arn, solar_agent_alias_id"
   ]
  },
  {
   "cell_type": "markdown",
   "id": "e5e51526-e959-46f3-b834-2a32c4016bc4",
   "metadata": {
    "pycharm": {
     "name": "#%% md\n"
    }
   },
   "source": [
    "## Next Steps\n",
    "Congratulations! We've now created a solar panel agent. Next we will create our peak loader manager agent"
   ]
  }
 ],
 "metadata": {
  "kernelspec": {
   "display_name": "Python 3 (ipykernel)",
   "language": "python",
   "name": "python3"
  },
  "language_info": {
   "codemirror_mode": {
    "name": "ipython",
    "version": 3
   },
   "file_extension": ".py",
   "mimetype": "text/x-python",
   "name": "python",
   "nbconvert_exporter": "python",
   "pygments_lexer": "ipython3",
   "version": "3.11.11"
  }
 },
 "nbformat": 4,
 "nbformat_minor": 5
}
